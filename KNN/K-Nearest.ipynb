{
 "cells": [
  {
   "cell_type": "markdown",
   "metadata": {},
   "source": [
    "# # KNN - Nearest Neighbors Using Numpy"
   ]
  },
  {
   "cell_type": "code",
   "execution_count": 1,
   "metadata": {},
   "outputs": [],
   "source": [
    "from sklearn import datasets\n",
    "import numpy as np\n",
    "from collections import Counter\n",
    "import os"
   ]
  },
  {
   "cell_type": "code",
   "execution_count": 3,
   "metadata": {},
   "outputs": [
    {
     "data": {
      "text/plain": [
       "dict_keys(['data', 'target', 'frame', 'target_names', 'DESCR', 'feature_names', 'filename'])"
      ]
     },
     "execution_count": 3,
     "metadata": {},
     "output_type": "execute_result"
    }
   ],
   "source": [
    "iris  = datasets.load_iris()\n",
    "data, labels = iris.data, iris.target\n",
    "iris.keys() # Dataset info"
   ]
  },
  {
   "cell_type": "code",
   "execution_count": 4,
   "metadata": {},
   "outputs": [],
   "source": [
    "import pandas as pd\n",
    "iris_df = pd.DataFrame(iris.data, columns = iris.feature_names,index = iris.target)"
   ]
  },
  {
   "cell_type": "code",
   "execution_count": 5,
   "metadata": {},
   "outputs": [
    {
     "data": {
      "text/html": [
       "<div>\n",
       "<style scoped>\n",
       "    .dataframe tbody tr th:only-of-type {\n",
       "        vertical-align: middle;\n",
       "    }\n",
       "\n",
       "    .dataframe tbody tr th {\n",
       "        vertical-align: top;\n",
       "    }\n",
       "\n",
       "    .dataframe thead th {\n",
       "        text-align: right;\n",
       "    }\n",
       "</style>\n",
       "<table border=\"1\" class=\"dataframe\">\n",
       "  <thead>\n",
       "    <tr style=\"text-align: right;\">\n",
       "      <th></th>\n",
       "      <th>sepal length (cm)</th>\n",
       "      <th>sepal width (cm)</th>\n",
       "      <th>petal length (cm)</th>\n",
       "      <th>petal width (cm)</th>\n",
       "    </tr>\n",
       "  </thead>\n",
       "  <tbody>\n",
       "    <tr>\n",
       "      <th>0</th>\n",
       "      <td>5.1</td>\n",
       "      <td>3.5</td>\n",
       "      <td>1.4</td>\n",
       "      <td>0.2</td>\n",
       "    </tr>\n",
       "    <tr>\n",
       "      <th>0</th>\n",
       "      <td>4.9</td>\n",
       "      <td>3.0</td>\n",
       "      <td>1.4</td>\n",
       "      <td>0.2</td>\n",
       "    </tr>\n",
       "    <tr>\n",
       "      <th>0</th>\n",
       "      <td>4.7</td>\n",
       "      <td>3.2</td>\n",
       "      <td>1.3</td>\n",
       "      <td>0.2</td>\n",
       "    </tr>\n",
       "    <tr>\n",
       "      <th>0</th>\n",
       "      <td>4.6</td>\n",
       "      <td>3.1</td>\n",
       "      <td>1.5</td>\n",
       "      <td>0.2</td>\n",
       "    </tr>\n",
       "    <tr>\n",
       "      <th>0</th>\n",
       "      <td>5.0</td>\n",
       "      <td>3.6</td>\n",
       "      <td>1.4</td>\n",
       "      <td>0.2</td>\n",
       "    </tr>\n",
       "    <tr>\n",
       "      <th>0</th>\n",
       "      <td>5.4</td>\n",
       "      <td>3.9</td>\n",
       "      <td>1.7</td>\n",
       "      <td>0.4</td>\n",
       "    </tr>\n",
       "    <tr>\n",
       "      <th>0</th>\n",
       "      <td>4.6</td>\n",
       "      <td>3.4</td>\n",
       "      <td>1.4</td>\n",
       "      <td>0.3</td>\n",
       "    </tr>\n",
       "    <tr>\n",
       "      <th>0</th>\n",
       "      <td>5.0</td>\n",
       "      <td>3.4</td>\n",
       "      <td>1.5</td>\n",
       "      <td>0.2</td>\n",
       "    </tr>\n",
       "    <tr>\n",
       "      <th>0</th>\n",
       "      <td>4.4</td>\n",
       "      <td>2.9</td>\n",
       "      <td>1.4</td>\n",
       "      <td>0.2</td>\n",
       "    </tr>\n",
       "    <tr>\n",
       "      <th>0</th>\n",
       "      <td>4.9</td>\n",
       "      <td>3.1</td>\n",
       "      <td>1.5</td>\n",
       "      <td>0.1</td>\n",
       "    </tr>\n",
       "  </tbody>\n",
       "</table>\n",
       "</div>"
      ],
      "text/plain": [
       "   sepal length (cm)  sepal width (cm)  petal length (cm)  petal width (cm)\n",
       "0                5.1               3.5                1.4               0.2\n",
       "0                4.9               3.0                1.4               0.2\n",
       "0                4.7               3.2                1.3               0.2\n",
       "0                4.6               3.1                1.5               0.2\n",
       "0                5.0               3.6                1.4               0.2\n",
       "0                5.4               3.9                1.7               0.4\n",
       "0                4.6               3.4                1.4               0.3\n",
       "0                5.0               3.4                1.5               0.2\n",
       "0                4.4               2.9                1.4               0.2\n",
       "0                4.9               3.1                1.5               0.1"
      ]
     },
     "execution_count": 5,
     "metadata": {},
     "output_type": "execute_result"
    }
   ],
   "source": [
    "iris_df[:10]"
   ]
  },
  {
   "cell_type": "code",
   "execution_count": 7,
   "metadata": {},
   "outputs": [
    {
     "data": {
      "text/plain": [
       "array([50, 50, 50], dtype=int64)"
      ]
     },
     "execution_count": 7,
     "metadata": {},
     "output_type": "execute_result"
    }
   ],
   "source": [
    "np.bincount(labels) # no of classes and samples in each\n"
   ]
  },
  {
   "cell_type": "code",
   "execution_count": 9,
   "metadata": {},
   "outputs": [],
   "source": [
    "#random permutation for data split\n",
    "np.random.seed(345)\n",
    "indices = np.random.permutation(len(data))"
   ]
  },
  {
   "cell_type": "code",
   "execution_count": 11,
   "metadata": {},
   "outputs": [],
   "source": [
    "n_training_samples = 85\n",
    "training_data = data[indices[:n_training_samples]]\n",
    "training_labels = labels[indices[:n_training_samples]]\n",
    "\n",
    "testing_data = data[indices[n_training_samples:]]\n",
    "testing_labels = labels[indices[n_training_samples:]]\n",
    "\n"
   ]
  },
  {
   "cell_type": "code",
   "execution_count": 13,
   "metadata": {},
   "outputs": [
    {
     "data": {
      "image/png": "[encoded data removed]",
      "text/plain": [
       "<Figure size 432x288 with 1 Axes>"
      ]
     },
     "metadata": {
      "needs_background": "light"
     },
     "output_type": "display_data"
    }
   ],
   "source": [
    "#plotting the data in 3d form\n",
    "%matplotlib inline \n",
    "\n",
    "import matplotlib.pyplot as plt\n",
    "from mpl_toolkits.mplot3d import Axes3D\n",
    "X = []\n",
    "for iclass in range(3):\n",
    "    X.append([[], [], []])\n",
    "    for i in range(len(training_data)):\n",
    "        if training_labels[i] == iclass:\n",
    "            X[iclass][0].append(training_data[i][0])\n",
    "            X[iclass][1].append(training_data[i][1])\n",
    "            X[iclass][2].append(sum(training_data[i][2:])) #last 2 features sum up\n",
    "\n",
    "colours = (\"r\", \"g\", \"y\")\n",
    "\n",
    "fig = plt.figure()\n",
    "ax = fig.add_subplot(111, projection='3d')\n",
    "\n",
    "for iclass in range(3):\n",
    "       ax.scatter(X[iclass][0], X[iclass][1], X[iclass][2], c=colours[iclass],s=30)\n",
    "plt.show()"
   ]
  },
  {
   "cell_type": "code",
   "execution_count": 14,
   "metadata": {},
   "outputs": [],
   "source": [
    "def euclid_distance(instance1, instance2):\n",
    "    # error if  instance1.shape[0]!= instance2.shape[0]\n",
    "    # just in case, if the instances are lists or tuples:\n",
    "    instance1 = np.array(instance1) \n",
    "    instance2 = np.array(instance2)\n",
    "    \n",
    "    return np.linalg.norm(instance1 - instance2)"
   ]
  },
  {
   "cell_type": "code",
   "execution_count": 16,
   "metadata": {},
   "outputs": [],
   "source": [
    "def manhattan_distance(instance1,instance2):\n",
    "    # error if  instance1.shape[0]!= instance2.shape[0]\n",
    "    dist = 0\n",
    "    for i in range(len(instance1.shape[0])):\n",
    "        dist += np.abs(instance1[:,i] - instance2[:,i])\n",
    "    return dist"
   ]
  },
  {
   "cell_type": "code",
   "execution_count": 36,
   "metadata": {},
   "outputs": [],
   "source": [
    "def levenshtein_distance(s, t):\n",
    "    \"\"\" \n",
    "        iterative_levenshtein(s, t) -> ldist\n",
    "        ldist is the Levenshtein distance between the strings \n",
    "        s and t.\n",
    "        For all i and j, dist[i,j] will contain the Levenshtein \n",
    "        distance between the first i characters of s and the \n",
    "        first j characters of t\n",
    "    \"\"\"\n",
    "\n",
    "    rows = len(s)+1\n",
    "    cols = len(t)+1\n",
    "    dist = [[0 for x in range(cols)] for x in range(rows)]\n",
    "\n",
    "    # source prefixes can be transformed into empty strings \n",
    "    # by deletions:\n",
    "    for i in range(1, rows):\n",
    "        dist[i][0] = i\n",
    "\n",
    "    # target prefixes can be created from an empty source string\n",
    "    # by inserting the characters\n",
    "    for i in range(1, cols):\n",
    "        dist[0][i] = i\n",
    "        \n",
    "    for col in range(1, cols):\n",
    "        for row in range(1, rows):\n",
    "            if s[row-1] == t[col-1]:\n",
    "                cost = 0\n",
    "            else:\n",
    "                cost = 1\n",
    "            dist[row][col] = min(dist[row-1][col] + 1,      # deletion\n",
    "                                 dist[row][col-1] + 1,      # insertion\n",
    "                                 dist[row-1][col-1] + cost) # substitution\n",
    "\n",
    "    #for r in range(rows): print(dist[r])\n",
    "    \n",
    " \n",
    "    return dist[row][col]\n",
    "    "
   ]
  },
  {
   "cell_type": "code",
   "execution_count": 17,
   "metadata": {},
   "outputs": [],
   "source": [
    "def get_k_neighbors(training_set, labels, test_instance, k=3, distance=euclid_distance):\n",
    "    \"\"\"\n",
    "    get_neighors calculates a list of the k nearest neighbors\n",
    "    of an instance 'test_instance'.\n",
    "    The list neighbors contains 3-tuples with  \n",
    "    (index, dist, label)\n",
    "    where \n",
    "    index    is the index from the training_set, \n",
    "    dist     is the distance between the test_instance and the \n",
    "             instance training_set[index]\n",
    "    distance is a reference to a function used to calculate the \n",
    "             distances\n",
    "    \"\"\"\n",
    "    distances = []\n",
    "    for index in range(len(training_set)):\n",
    "        dist = distance(test_instance, training_set[index])\n",
    "        distances.append((training_set[index], dist, labels[index]))\n",
    "    distances.sort(key=lambda x: x[1])\n",
    "    neighbors = distances[:k]\n",
    "    return neighbors"
   ]
  },
  {
   "cell_type": "code",
   "execution_count": 19,
   "metadata": {},
   "outputs": [],
   "source": [
    "def vote(neighbors):\n",
    "    class_counter = Counter()\n",
    "    for neighbor in neighbors:\n",
    "        class_counter[neighbor[2]] += 1\n",
    "    return class_counter.most_common(1)[0][0] #tie case resolve as arbitary"
   ]
  },
  {
   "cell_type": "code",
   "execution_count": 21,
   "metadata": {},
   "outputs": [],
   "source": [
    "def vote_harmonic_weights(neighbors, all_results=True):\n",
    "    #The Weighted Nearest Neighbour Classifier , voting based on harmonic series\n",
    "    class_counter = Counter()\n",
    "    number_of_neighbors = len(neighbors)\n",
    "    for index in range(number_of_neighbors):\n",
    "        class_counter[neighbors[index][2]] += 1/(index+1)\n",
    "    labels, votes = zip(*class_counter.most_common())\n",
    "    #print(labels, votes)\n",
    "    winner = class_counter.most_common(1)[0][0]\n",
    "    votes4winner = class_counter.most_common(1)[0][1]\n",
    "    if all_results: #return all the negihbors classes\n",
    "        total = sum(class_counter.values(), 0.0) #just for float conversion\n",
    "        for key in class_counter:\n",
    "             class_counter[key] /= total\n",
    "        return winner, class_counter.most_common()\n",
    "    else:\n",
    "        return winner, votes4winner / sum(votes)"
   ]
  },
  {
   "cell_type": "code",
   "execution_count": 22,
   "metadata": {},
   "outputs": [],
   "source": [
    "def vote_distance_weights(neighbors, all_results=True):\n",
    "    #more better approach using actual distance in account\n",
    "    class_counter = Counter()\n",
    "    number_of_neighbors = len(neighbors)\n",
    "    for index in range(number_of_neighbors):\n",
    "        dist = neighbors[index][1]\n",
    "        label = neighbors[index][2]\n",
    "        class_counter[label] += 1 / (dist**2 + 1)\n",
    "    labels, votes = zip(*class_counter.most_common())\n",
    "    #print(labels, votes)\n",
    "    winner = class_counter.most_common(1)[0][0]\n",
    "    votes4winner = class_counter.most_common(1)[0][1]\n",
    "    if all_results:\n",
    "        total = sum(class_counter.values(), 0.0)\n",
    "        for key in class_counter:\n",
    "             class_counter[key] /= total\n",
    "        return winner, class_counter.most_common()\n",
    "    else:\n",
    "        return winner, votes4winner / sum(votes)"
   ]
  },
  {
   "cell_type": "code",
   "execution_count": 31,
   "metadata": {},
   "outputs": [
    {
     "name": "stdout",
     "output_type": "stream",
     "text": [
      "Ground Truth Label:  0 , result of vote:  (0, 1.0)\n",
      "Ground Truth Label:  2 , result of vote:  (2, 0.8490154592118361)\n",
      "Ground Truth Label:  1 , result of vote:  (1, 1.0)\n",
      "Ground Truth Label:  2 , result of vote:  (2, 0.8343228283070399)\n",
      "Ground Truth Label:  1 , result of vote:  (1, 1.0)\n",
      "Ground Truth Label:  0 , result of vote:  (0, 1.0)\n",
      "Ground Truth Label:  1 , result of vote:  (1, 1.0)\n",
      "Ground Truth Label:  0 , result of vote:  (0, 1.0)\n",
      "Ground Truth Label:  2 , result of vote:  (2, 1.0)\n",
      "Ground Truth Label:  1 , result of vote:  (1, 1.0)\n",
      "Ground Truth Label:  0 , result of vote:  (0, 1.0)\n",
      "Ground Truth Label:  1 , result of vote:  (1, 1.0)\n",
      "Ground Truth Label:  0 , result of vote:  (0, 1.0)\n",
      "Ground Truth Label:  0 , result of vote:  (0, 1.0)\n",
      "Ground Truth Label:  0 , result of vote:  (0, 1.0)\n",
      "Ground Truth Label:  2 , result of vote:  (2, 1.0)\n",
      "Ground Truth Label:  2 , result of vote:  (2, 0.8322905554770411)\n",
      "Ground Truth Label:  1 , result of vote:  (1, 1.0)\n",
      "Ground Truth Label:  2 , result of vote:  (2, 1.0)\n",
      "Ground Truth Label:  1 , result of vote:  (1, 0.842706864212181)\n",
      "Ground Truth Label:  2 , result of vote:  (2, 0.6811956017862819)\n",
      "Ground Truth Label:  0 , result of vote:  (0, 1.0)\n",
      "Ground Truth Label:  2 , result of vote:  (2, 0.8021819759062526)\n",
      "Ground Truth Label:  2 , result of vote:  (2, 1.0)\n",
      "Ground Truth Label:  1 , result of vote:  (1, 1.0)\n",
      "Ground Truth Label:  0 , result of vote:  (0, 1.0)\n",
      "Ground Truth Label:  2 , result of vote:  (2, 1.0)\n",
      "Ground Truth Label:  1 , result of vote:  (1, 1.0)\n",
      "Ground Truth Label:  2 , result of vote:  (2, 0.8416153024982941)\n",
      "Ground Truth Label:  1 , result of vote:  (1, 0.8707123169443831)\n",
      "Ground Truth Label:  1 , result of vote:  (1, 1.0)\n",
      "Ground Truth Label:  1 , result of vote:  (1, 1.0)\n",
      "Ground Truth Label:  1 , result of vote:  (1, 1.0)\n",
      "Ground Truth Label:  1 , result of vote:  (1, 1.0)\n",
      "Ground Truth Label:  1 , result of vote:  (1, 0.8368210765941326)\n",
      "Ground Truth Label:  0 , result of vote:  (0, 1.0)\n",
      "Ground Truth Label:  2 , result of vote:  (2, 1.0)\n",
      "Ground Truth Label:  2 , result of vote:  (2, 1.0)\n",
      "Ground Truth Label:  0 , result of vote:  (0, 1.0)\n",
      "Ground Truth Label:  2 , result of vote:  (2, 0.8485934260413338)\n",
      "Ground Truth Label:  0 , result of vote:  (0, 1.0)\n",
      "Ground Truth Label:  2 , result of vote:  (2, 1.0)\n",
      "Ground Truth Label:  2 , result of vote:  (2, 0.8436460255987898)\n",
      "Ground Truth Label:  1 , result of vote:  (1, 1.0)\n",
      "Ground Truth Label:  1 , result of vote:  (1, 1.0)\n",
      "Ground Truth Label:  0 , result of vote:  (0, 1.0)\n",
      "Ground Truth Label:  2 , result of vote:  (2, 1.0)\n",
      "Ground Truth Label:  2 , result of vote:  (2, 1.0)\n",
      "Ground Truth Label:  2 , result of vote:  (2, 1.0)\n",
      "Ground Truth Label:  1 , result of vote:  (1, 1.0)\n",
      "Ground Truth Label:  0 , result of vote:  (0, 1.0)\n",
      "Ground Truth Label:  1 , result of vote:  (1, 1.0)\n",
      "Ground Truth Label:  1 , result of vote:  (1, 1.0)\n",
      "Ground Truth Label:  0 , result of vote:  (0, 1.0)\n",
      "Ground Truth Label:  1 , result of vote:  (1, 1.0)\n",
      "Ground Truth Label:  2 , result of vote:  (2, 0.8226665018695226)\n",
      "Ground Truth Label:  0 , result of vote:  (0, 1.0)\n",
      "Ground Truth Label:  0 , result of vote:  (0, 1.0)\n",
      "Ground Truth Label:  0 , result of vote:  (0, 1.0)\n",
      "Ground Truth Label:  1 , result of vote:  (1, 0.8388524999230373)\n",
      "Ground Truth Label:  1 , result of vote:  (1, 1.0)\n",
      "Ground Truth Label:  0 , result of vote:  (0, 1.0)\n",
      "Ground Truth Label:  2 , result of vote:  (2, 1.0)\n",
      "Ground Truth Label:  1 , result of vote:  (2, 0.8374395728301299)\n",
      "Ground Truth Label:  0 , result of vote:  (0, 1.0)\n"
     ]
    }
   ],
   "source": [
    "#testing the classifier\n",
    "n_test_samples = data.shape[0]-n_training_samples\n",
    "predicted_labels = []\n",
    "ground_truth = []\n",
    "for i in range(n_test_samples):\n",
    "    neighbors = get_k_neighbors(training_data, \n",
    "                              training_labels, \n",
    "                              testing_data[i], \n",
    "                              6, \n",
    "                              distance=euclid_distance)\n",
    "    label_dist = vote_distance_weights(neighbors, all_results=False)\n",
    "    ground_truth.append(testing_labels[i])\n",
    "    predicted_labels.append(label_dist[0])\n",
    "    print(\"Ground Truth Label: \", testing_labels[i], \n",
    "          \", result of vote: \", label_dist)"
   ]
  },
  {
   "cell_type": "code",
   "execution_count": 32,
   "metadata": {},
   "outputs": [
    {
     "data": {
      "text/plain": [
       "0.9846153846153847"
      ]
     },
     "execution_count": 32,
     "metadata": {},
     "output_type": "execute_result"
    }
   ],
   "source": [
    "#Calculating Accuracy of classifier\n",
    "from sklearn.metrics import accuracy_score\n",
    "accuracy_score(predicted_labels, ground_truth)"
   ]
  },
  {
   "cell_type": "markdown",
   "metadata": {},
   "source": [
    "### kNN in Linguistics"
   ]
  },
  {
   "cell_type": "code",
   "execution_count": 39,
   "metadata": {},
   "outputs": [
    {
     "name": "stdout",
     "output_type": "stream",
     "text": [
      "Actual:  holpful  Predicted:  helpful  Distance:  0.5555555555555556\n",
      "Actual:  kundnoss  Predicted:  kindness  Distance:  0.5\n",
      "Actual:  holpposs  Predicted:  helpless  Distance:  0.3333333333333333\n",
      "Actual:  thoes  Predicted:  hoes  Distance:  0.3333333333333333\n",
      "Actual:  innerstand  Predicted:  understand  Distance:  0.5\n",
      "Actual:  blagrufoo  Predicted:  barefoot  Distance:  0.4333333333333333\n",
      "Actual:  liberdi  Predicted:  liberal  Distance:  0.4\n"
     ]
    }
   ],
   "source": [
    "words = open('words.txt').readlines()\n",
    "words = [word.strip() for word in words]\n",
    "truth = ['helpful','kindness','helpless','those','understand','barefoot','liberal']\n",
    "\n",
    "for word in [\"holpful\", \"kundnoss\", \"holpposs\", \"thoes\", \"innerstand\",\n",
    "             \"blagrufoo\", \"liberdi\"]:\n",
    "    \n",
    "    neighbors = get_k_neighbors(words, words, word, 3, distance=levenshtein_distance)\n",
    "    word_dist = vote_distance_weights(neighbors, all_results=False)\n",
    "    print(\"Actual: \",Incorrect: \",word,\" Predicted: \", word_dist[0],\" Distance: \",word_dist[1])\n"
   ]
  },
  {
   "cell_type": "code",
   "execution_count": null,
   "metadata": {},
   "outputs": [],
   "source": []
  }
 ],
 "metadata": {
  "kernelspec": {
   "display_name": "Python 3.7.7 64-bit ('env1': conda)",
   "language": "python",
   "name": "python37764bitenv1conda8772056fe2764b10b4edf9b592819b07"
  },
  "language_info": {
   "codemirror_mode": {
    "name": "ipython",
    "version": 3
   },
   "file_extension": ".py",
   "mimetype": "text/x-python",
   "name": "python",
   "nbconvert_exporter": "python",
   "pygments_lexer": "ipython3",
   "version": "3.7.7"
  }
 },
 "nbformat": 4,
 "nbformat_minor": 4
}
